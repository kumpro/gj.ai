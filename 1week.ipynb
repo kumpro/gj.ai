{
  "nbformat": 4,
  "nbformat_minor": 0,
  "metadata": {
    "colab": {
      "name": "1week.ipynb",
      "provenance": [],
      "collapsed_sections": [],
      "authorship_tag": "ABX9TyN+BQnnNdOeq1fMJthAZkC5",
      "include_colab_link": true
    },
    "kernelspec": {
      "name": "python3",
      "display_name": "Python 3"
    }
  },
  "cells": [
    {
      "cell_type": "markdown",
      "metadata": {
        "id": "view-in-github",
        "colab_type": "text"
      },
      "source": [
        "<a href=\"https://colab.research.google.com/github/kumpro/gj.ai/blob/master/1week.ipynb\" target=\"_parent\"><img src=\"https://colab.research.google.com/assets/colab-badge.svg\" alt=\"Open In Colab\"/></a>"
      ]
    },
    {
      "cell_type": "markdown",
      "metadata": {
        "id": "Vsd4tv5hvmOw",
        "colab_type": "text"
      },
      "source": [
        "# **인공지능 사관학교 프리코스 과제 목차**"
      ]
    },
    {
      "cell_type": "markdown",
      "metadata": {
        "id": "Z92Zciw0vujd",
        "colab_type": "text"
      },
      "source": [
        "**1주차 과제(2020.05.30.)**"
      ]
    }
  ]
}